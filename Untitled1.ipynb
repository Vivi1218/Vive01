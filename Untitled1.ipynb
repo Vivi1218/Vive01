{
 "cells": [
  {
   "cell_type": "code",
   "execution_count": 8,
   "id": "dd665276",
   "metadata": {},
   "outputs": [
    {
     "name": "stdout",
     "output_type": "stream",
     "text": [
      "x is greater\n"
     ]
    }
   ],
   "source": [
    "x=5\n",
    "y=2\n",
    "if (x>y):\n",
    "\n",
    " print(\"x is greater\");\n",
    "else:\n",
    "\n",
    " print(\"y is greater\")"
   ]
  },
  {
   "cell_type": "code",
   "execution_count": null,
   "id": "29343f56",
   "metadata": {},
   "outputs": [],
   "source": []
  }
 ],
 "metadata": {
  "kernelspec": {
   "display_name": "Python 3 (ipykernel)",
   "language": "python",
   "name": "python3"
  },
  "language_info": {
   "codemirror_mode": {
    "name": "ipython",
    "version": 3
   },
   "file_extension": ".py",
   "mimetype": "text/x-python",
   "name": "python",
   "nbconvert_exporter": "python",
   "pygments_lexer": "ipython3",
   "version": "3.10.9"
  }
 },
 "nbformat": 4,
 "nbformat_minor": 5
}
