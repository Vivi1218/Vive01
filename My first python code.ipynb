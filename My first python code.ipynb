{
 "cells": [
  {
   "cell_type": "markdown",
   "id": "17a0f795",
   "metadata": {},
   "source": [
    "# viveka=\"welcome to data science\"\n",
    "print(viveka)\n"
   ]
  },
  {
   "cell_type": "code",
   "execution_count": 2,
   "id": "5a06c589",
   "metadata": {},
   "outputs": [
    {
     "name": "stdout",
     "output_type": "stream",
     "text": [
      "25\n"
     ]
    }
   ],
   "source": [
    "x=10\n",
    "y=15\n",
    "print(x+y)"
   ]
  }
 ],
 "metadata": {
  "kernelspec": {
   "display_name": "Python 3 (ipykernel)",
   "language": "python",
   "name": "python3"
  },
  "language_info": {
   "codemirror_mode": {
    "name": "ipython",
    "version": 3
   },
   "file_extension": ".py",
   "mimetype": "text/x-python",
   "name": "python",
   "nbconvert_exporter": "python",
   "pygments_lexer": "ipython3",
   "version": "3.10.9"
  }
 },
 "nbformat": 4,
 "nbformat_minor": 5
}
